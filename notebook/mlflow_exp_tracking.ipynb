{
 "cells": [
  {
   "cell_type": "code",
   "execution_count": 1,
   "metadata": {},
   "outputs": [
    {
     "name": "stderr",
     "output_type": "stream",
     "text": [
      "2023/08/17 22:53:48 INFO mlflow.tracking.fluent: Experiment with name 'demo-exp' does not exist. Creating a new experiment.\n"
     ]
    },
    {
     "name": "stdout",
     "output_type": "stream",
     "text": [
      "Tracking Server URI: 'http://0.0.0.0:5002'\n"
     ]
    },
    {
     "data": {
      "text/plain": [
       "<Experiment: artifact_location='s3://upskills-landing-zone/mlflow/1', creation_time=1692284028788, experiment_id='1', last_update_time=1692284028788, lifecycle_stage='active', name='demo-exp', tags={}>"
      ]
     },
     "execution_count": 1,
     "metadata": {},
     "output_type": "execute_result"
    }
   ],
   "source": [
    "import os\n",
    "\n",
    "import mlflow\n",
    "from mlflow.tracking import MlflowClient\n",
    "\n",
    "# Specify Public URL of EC2 instance where the MLflow tracking server is running\n",
    "TRACKING_SERVER_HOST = \"0.0.0.0\"\n",
    "\n",
    "mlflow.set_tracking_uri(f\"http://{TRACKING_SERVER_HOST}:5002\") \n",
    "print(f\"Tracking Server URI: '{mlflow.get_tracking_uri()}'\")\n",
    "\n",
    "#specify name of experiment (will be created if it does not exist)\n",
    "mlflow.set_experiment(\"demo-exp\")"
   ]
  },
  {
   "cell_type": "code",
   "execution_count": 2,
   "metadata": {},
   "outputs": [
    {
     "name": "stderr",
     "output_type": "stream",
     "text": [
      "/Users/quannguyen/repos/mlflow-server/venv/lib/python3.11/site-packages/sklearn/linear_model/_logistic.py:460: ConvergenceWarning: lbfgs failed to converge (status=1):\n",
      "STOP: TOTAL NO. of ITERATIONS REACHED LIMIT.\n",
      "\n",
      "Increase the number of iterations (max_iter) or scale the data as shown in:\n",
      "    https://scikit-learn.org/stable/modules/preprocessing.html\n",
      "Please also refer to the documentation for alternative solver options:\n",
      "    https://scikit-learn.org/stable/modules/linear_model.html#logistic-regression\n",
      "  n_iter_i = _check_optimize_result(\n",
      "2023/08/17 22:54:12 WARNING mlflow.utils.autologging_utils: MLflow autologging encountered a warning: \"/Users/quannguyen/repos/mlflow-server/venv/lib/python3.11/site-packages/_distutils_hack/__init__.py:33: UserWarning: Setuptools is replacing distutils.\"\n"
     ]
    },
    {
     "name": "stdout",
     "output_type": "stream",
     "text": [
      "Artifacts URI: 's3://upskills-landing-zone/mlflow/1/c24fd80d9bd949f79dcb762b8c12793b/artifacts'\n",
      "Artifacts URI: 's3://upskills-landing-zone/mlflow/1/045c1fec9efe408f90222f6e9cc80eae/artifacts'\n",
      "Artifacts URI: 's3://upskills-landing-zone/mlflow/1/32eb946a22804fea9f432504df03b21a/artifacts'\n"
     ]
    }
   ],
   "source": [
    "import mlflow.sklearn\n",
    "from sklearn.datasets import load_iris\n",
    "from sklearn.model_selection import train_test_split\n",
    "from sklearn.linear_model import LogisticRegression\n",
    "from sklearn.tree import DecisionTreeClassifier\n",
    "from sklearn.ensemble import RandomForestClassifier\n",
    "\n",
    "# Load the sample dataset\n",
    "data = load_iris()\n",
    "X, y = data.data, data.target\n",
    "\n",
    "# Split the dataset into training and testing sets\n",
    "X_train, X_test, y_train, y_test = train_test_split(X, y, test_size=0.2, random_state=42)\n",
    "\n",
    "# Enable MLflow autologging\n",
    "mlflow.sklearn.autolog()\n",
    "\n",
    "# Define a dictionary of classification models\n",
    "models = {\n",
    "    \"Logistic Regression\": LogisticRegression(),\n",
    "    \"Decision Tree\": DecisionTreeClassifier(),\n",
    "    \"Random Forest\": RandomForestClassifier()\n",
    "}\n",
    "\n",
    "# Train and log each classification model\n",
    "for model_name, model in models.items():\n",
    "\n",
    "    with mlflow.start_run():\n",
    "\n",
    "        # Set the tag for name of user who ran the experiment\n",
    "        mlflow.set_tag(\"User\", \"Quan Nguyen\")\n",
    "        \n",
    "        # Train the model\n",
    "        model.fit(X_train, y_train)\n",
    "        \n",
    "        # Evaluate the model on the test set\n",
    "        accuracy = model.score(X_test, y_test)\n",
    "        \n",
    "        # Log model metrics\n",
    "        mlflow.log_metric(\"Accuracy\", accuracy)\n",
    "\n",
    "        print(f\"Artifacts URI: '{mlflow.get_artifact_uri()}'\")"
   ]
  }
 ],
 "metadata": {
  "kernelspec": {
   "display_name": "venv",
   "language": "python",
   "name": "python3"
  },
  "language_info": {
   "codemirror_mode": {
    "name": "ipython",
    "version": 3
   },
   "file_extension": ".py",
   "mimetype": "text/x-python",
   "name": "python",
   "nbconvert_exporter": "python",
   "pygments_lexer": "ipython3",
   "version": "3.11.3"
  },
  "orig_nbformat": 4
 },
 "nbformat": 4,
 "nbformat_minor": 2
}
